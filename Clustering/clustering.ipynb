{
 "cells": [
  {
   "cell_type": "code",
   "execution_count": 20,
   "metadata": {},
   "outputs": [],
   "source": [
    "import pandas as pd\n",
    "import numpy as np\n",
    "import sklearn.cluster as sk_cluster\n",
    "from sklearn.cluster import AgglomerativeClustering\n",
    "from scipy.cluster.hierarchy import fcluster, linkage\n",
    "from sklearn.cluster import SpectralClustering\n",
    "\n",
    "def compute_purity_f_measure(labels, clusters):\n",
    "    total_correct_examples = [] # A list that has the number of correct examples for every cluster.\n",
    "    f_measure_of_every_cluster = []\n",
    "    for label_number in range(0, clusters):\n",
    "        indexes = np.where(labels == label_number) # The indexes of the examples that belong to cluster label_number.\n",
    "        # Find the number of examples in the cluster, that belong to zero category and first category.\n",
    "        zero_category = 0\n",
    "        first_category = 0\n",
    "        for i in indexes[0]:\n",
    "            if(data_set[i][-1] == 0):\n",
    "                zero_category = zero_category + 1\n",
    "            else:\n",
    "                first_category = first_category + 1\n",
    "        cluster_category = None\n",
    "        number_of_correct_examples = None\n",
    "        if(zero_category >= first_category):\n",
    "            cluster_category = 0\n",
    "            number_of_correct_examples = zero_category\n",
    "        else:\n",
    "            cluster_category = 1\n",
    "            number_of_correct_examples = first_category\n",
    "        total_correct_examples.append(number_of_correct_examples)\n",
    "        # Compute f_measure.\n",
    "        # I assume positive: 1 and negative: 0.\n",
    "        true_positive = 0\n",
    "        true_negative = 0\n",
    "        false_positive = 0\n",
    "        false_negative = 0\n",
    "        for i in indexes[0]:\n",
    "            if(data_set[i][-1] == cluster_category):\n",
    "                if(cluster_category == 1):\n",
    "                    true_positive = true_positive + 1\n",
    "                else:\n",
    "                    true_negative = true_negative + 1\n",
    "            else:\n",
    "                if(cluster_category == 1):\n",
    "                    false_positive = false_positive + 1\n",
    "                else:\n",
    "                    false_negative = false_negative + 1\n",
    "        precision = 0\n",
    "        recall = 0\n",
    "        if((true_positive + false_positive) != 0):    \n",
    "            precision = true_positive / (true_positive + false_positive)\n",
    "        if((true_positive + false_negative) != 0):    \n",
    "            recall = true_positive / (true_positive + false_negative)\n",
    "        f_measure = 0\n",
    "        if(precision == recall == 0):\n",
    "            f_measure = 0\n",
    "        else:    \n",
    "            f_measure = (1 + a) / ((1 / precision) + (a / recall))\n",
    "        f_measure_of_every_cluster.append(f_measure)\n",
    "                    \n",
    "    purity = sum(total_correct_examples) / data_set.shape[0]      \n",
    "    total_f_measure = sum(f_measure_of_every_cluster)\n",
    "    return purity, total_f_measure"
   ]
  },
  {
   "cell_type": "markdown",
   "metadata": {},
   "source": [
    "# Choose Data Set"
   ]
  },
  {
   "cell_type": "code",
   "execution_count": 21,
   "metadata": {},
   "outputs": [
    {
     "name": "stdout",
     "output_type": "stream",
     "text": [
      "Select the data set you want to apply a clustering algorithm.\n",
      "Type 1 for spam dataset.\n",
      "Type 2 for occupancy dataset.\n",
      "Answer: 2\n"
     ]
    }
   ],
   "source": [
    "choice = int(input(\"Select the data set you want to apply a clustering algorithm.\\nType 1 for spam dataset.\\nType 2 for occupancy dataset.\\nAnswer: \"))\n",
    "data_frame = None\n",
    "data_set = None\n",
    "if(choice == 1):\n",
    "    data_frame = pd.read_csv('spambase_data.csv')\n",
    "    data_set = np.array(data_frame)\n",
    "else:\n",
    "    data_frame = pd.read_csv('occupancy_dataset.csv')\n",
    "    del data_frame['date']\n",
    "    # Normalization (Divide each column with it's max value except the category column).\n",
    "    for index_column in range(0, 5):\n",
    "        data_frame.iloc[:, index_column] = data_frame.iloc[:, index_column] / data_frame.iloc[:, index_column].max()\n",
    "    data_set = np.array(data_frame)\n",
    "    \n",
    "number_of_clusters = [2, 4, 8]\n",
    "a = 1"
   ]
  },
  {
   "cell_type": "markdown",
   "metadata": {},
   "source": [
    "# K-Means Algorithm"
   ]
  },
  {
   "cell_type": "code",
   "execution_count": 22,
   "metadata": {
    "scrolled": true
   },
   "outputs": [
    {
     "name": "stdout",
     "output_type": "stream",
     "text": [
      "Number of clusters:  2\n",
      "\tPurity:  1.0\n",
      "\tF_measure:  1.0\n",
      "Number of clusters:  4\n",
      "\tPurity:  1.0\n",
      "\tF_measure:  2.0\n",
      "Number of clusters:  8\n",
      "\tPurity:  1.0\n",
      "\tF_measure:  3.0\n"
     ]
    }
   ],
   "source": [
    "purity_array = [] # A list to store all the purity values.\n",
    "f_measure_array = [] # A list to store all the f_measure values.\n",
    "for clusters in number_of_clusters: \n",
    "    kmeans_object = sk_cluster.KMeans(n_clusters = clusters, init = 'random', n_init = 20)\n",
    "    # Compute cluster centers and predict cluster index for each sample.\n",
    "    # kmeans_labels: the centroid of each example.\n",
    "    kmeans_labels = kmeans_object.fit_predict(data_set) \n",
    "    centroids = kmeans_object.cluster_centers_ # Final centroids.\n",
    "    sum_squared_error = kmeans_object.inertia_ # The final variance.\n",
    "    purity, total_f_measure = compute_purity_f_measure(kmeans_labels, clusters)\n",
    "    purity_array.append(purity)\n",
    "    f_measure_array.append(total_f_measure)\n",
    "\n",
    "for i in range(len(number_of_clusters)):\n",
    "    print(\"Number of clusters: \", number_of_clusters[i])\n",
    "    print(\"\\tPurity: \", purity_array[i])\n",
    "    print(\"\\tF_measure: \", f_measure_array[i])"
   ]
  },
  {
   "cell_type": "markdown",
   "metadata": {},
   "source": [
    "# Agglomerative Hierarchical Clustering"
   ]
  },
  {
   "cell_type": "code",
   "execution_count": 23,
   "metadata": {},
   "outputs": [
    {
     "name": "stdout",
     "output_type": "stream",
     "text": [
      "Number of clusters:  2\n",
      "\tPurity:  1.0\n",
      "\tF_measure:  1.0\n",
      "Number of clusters:  4\n",
      "\tPurity:  1.0\n",
      "\tF_measure:  1.0\n",
      "Number of clusters:  8\n",
      "\tPurity:  1.0\n",
      "\tF_measure:  3.0\n"
     ]
    }
   ],
   "source": [
    "# Each row of Z array has the format [idx1, idx2, dist, number_of_samples_in this_cluster].\n",
    "# Z[i] will tell us which clusters were merged in the i-th iteration.\n",
    "Z = linkage(data_set, 'centroid')\n",
    "\n",
    "purity_array = [] # A list to store all the purity values.\n",
    "f_measure_array = [] # A list to store all the f_measure values.\n",
    "for clusters in number_of_clusters: \n",
    "    agglomerative_labels = fcluster(Z, clusters, criterion = 'maxclust') # agglomerative_labels: the centroid of each example.\n",
    "    total_correct_examples = [] # A list that has the number of correct examples for every cluster.\n",
    "    f_measure_of_every_cluster = []\n",
    "    for label_number in range(1, clusters + 1):\n",
    "        indexes = np.where(agglomerative_labels == label_number) # The indexes of the examples that belong to cluster label_number.\n",
    "        # Find the number of examples in the cluster, that belong to zero category and first category.\n",
    "        zero_category = 0\n",
    "        first_category = 0\n",
    "        for i in indexes[0]:\n",
    "            if(data_set[i][-1] == 0):\n",
    "                zero_category = zero_category + 1\n",
    "            else:\n",
    "                first_category = first_category + 1\n",
    "        cluster_category = None\n",
    "        number_of_correct_examples = None\n",
    "        if(zero_category >= first_category):\n",
    "            cluster_category = 0\n",
    "            number_of_correct_examples = zero_category\n",
    "        else:\n",
    "            cluster_category = 1\n",
    "            number_of_correct_examples = first_category\n",
    "        total_correct_examples.append(number_of_correct_examples)\n",
    "        # Compute f_measure.\n",
    "        # I assume positive: 1 and negative: 0.\n",
    "        true_positive = 0\n",
    "        true_negative = 0\n",
    "        false_positive = 0\n",
    "        false_negative = 0\n",
    "        for i in indexes[0]:\n",
    "            if(data_set[i][-1] == cluster_category):\n",
    "                if(cluster_category == 1):\n",
    "                    true_positive = true_positive + 1\n",
    "                else:\n",
    "                    true_negative = true_negative + 1\n",
    "            else:\n",
    "                if(cluster_category == 1):\n",
    "                    false_positive = false_positive + 1\n",
    "                else:\n",
    "                    false_negative = false_negative + 1\n",
    "        precision = 0\n",
    "        recall = 0\n",
    "        if((true_positive + false_positive) != 0):    \n",
    "            precision = true_positive / (true_positive + false_positive)\n",
    "        if((true_positive + false_negative) != 0):    \n",
    "            recall = true_positive / (true_positive + false_negative)\n",
    "        f_measure = 0\n",
    "        if(precision == recall == 0):\n",
    "            f_measure = 0\n",
    "        else:    \n",
    "            f_measure = (1 + a) / ((1 / precision) + (a / recall))\n",
    "        f_measure_of_every_cluster.append(f_measure)     \n",
    "    purity = sum(total_correct_examples) / data_set.shape[0]    \n",
    "    purity_array.append(purity)\n",
    "    total_f_measure = sum(f_measure_of_every_cluster)\n",
    "    f_measure_array.append(total_f_measure)\n",
    "\n",
    "for i in range(len(number_of_clusters)):\n",
    "    print(\"Number of clusters: \", number_of_clusters[i])\n",
    "    print(\"\\tPurity: \", purity_array[i])\n",
    "    print(\"\\tF_measure: \", f_measure_array[i])   "
   ]
  },
  {
   "cell_type": "markdown",
   "metadata": {},
   "source": [
    "# Spectral Clustering"
   ]
  },
  {
   "cell_type": "code",
   "execution_count": 24,
   "metadata": {},
   "outputs": [
    {
     "name": "stdout",
     "output_type": "stream",
     "text": [
      "Optimal number of clusters:  [   2 1734    3]\n"
     ]
    },
    {
     "data": {
      "image/png": "[encoded data removed]",
      "text/plain": [
       "<Figure size 432x288 with 1 Axes>"
      ]
     },
     "metadata": {
      "needs_background": "light"
     },
     "output_type": "display_data"
    }
   ],
   "source": [
    "from sklearn.cluster import SpectralClustering\n",
    "import matplotlib.pyplot as plt\n",
    "import scipy\n",
    "from scipy.sparse import csgraph\n",
    "from numpy import linalg as LA\n",
    "from scipy.spatial.distance import pdist, squareform\n",
    "# This method:\n",
    "# Returns: \n",
    "#  -the topk optimal number of clusters.\n",
    "#  -all eigen values.\n",
    "#  -all eigen vectors\n",
    "def eigenDecomposition(affinity_matrix, plot = True, topK = 3):\n",
    "    L = csgraph.laplacian(affinity_matrix) # Get Laplacian matrix.\n",
    "    eigenvalues, eigenvectors = LA.eig(L) # Get eigenvalues and eigenvectors of Laplaxian matrix.\n",
    "    eigenvalues = np.sort(eigenvalues, axis=None) # Sort eigenvalues matrix.\n",
    "    if plot:\n",
    "        plt.title('Largest eigen values of input matrix')\n",
    "        plt.scatter(np.arange(1, len(eigenvalues)+1), eigenvalues)\n",
    "        plt.grid()\n",
    "    # Identify the optimal number of clusters as the index corresponding to the larger gap between eigen values.\n",
    "    index_largest_gap = np.argsort(np.diff(eigenvalues))[::-1][:topK]\n",
    "    nb_clusters = index_largest_gap + 1\n",
    "    nb_clusters = nb_clusters + 1\n",
    "    return nb_clusters, eigenvalues, eigenvectors\n",
    "\n",
    "cosine_spectral_clustering_object = SpectralClustering(n_clusters = 1, affinity = 'cosine')\n",
    "cosine_spectral_labels = cosine_spectral_clustering_object.fit_predict(data_set)\n",
    "affinity_matrix = cosine_spectral_clustering_object.affinity_matrix_ # Find affinity matrix.\n",
    "optimal_number_of_clusters, _,  _ = eigenDecomposition(affinity_matrix)\n",
    "print(\"Optimal number of clusters: \", optimal_number_of_clusters)"
   ]
  },
  {
   "cell_type": "markdown",
   "metadata": {},
   "source": [
    "### Cosine Kernel"
   ]
  },
  {
   "cell_type": "code",
   "execution_count": 25,
   "metadata": {},
   "outputs": [
    {
     "name": "stdout",
     "output_type": "stream",
     "text": [
      "Number of clusters:  2\n",
      "\tPurity:  1.0\n",
      "\tF_measure:  1.0\n"
     ]
    }
   ],
   "source": [
    "number_of_clusters = optimal_number_of_clusters[0]\n",
    "spectral_clustering_object = SpectralClustering(n_clusters = number_of_clusters, affinity = 'cosine')\n",
    "spectral_labels = spectral_clustering_object.fit_predict(data_set)\n",
    "purity, total_f_measure = compute_purity_f_measure(spectral_labels, number_of_clusters)\n",
    "\n",
    "print(\"Number of clusters: \", number_of_clusters)\n",
    "print(\"\\tPurity: \", purity)\n",
    "print(\"\\tF_measure: \", total_f_measure)  "
   ]
  }
 ],
 "metadata": {
  "kernelspec": {
   "display_name": "Python 3",
   "language": "python",
   "name": "python3"
  },
  "language_info": {
   "codemirror_mode": {
    "name": "ipython",
    "version": 3
   },
   "file_extension": ".py",
   "mimetype": "text/x-python",
   "name": "python",
   "nbconvert_exporter": "python",
   "pygments_lexer": "ipython3",
   "version": "3.7.6"
  }
 },
 "nbformat": 4,
 "nbformat_minor": 2
}
